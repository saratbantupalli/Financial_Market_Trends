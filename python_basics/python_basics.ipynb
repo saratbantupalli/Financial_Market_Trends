{
  "nbformat": 4,
  "nbformat_minor": 0,
  "metadata": {
    "colab": {
      "provenance": [],
      "toc_visible": true,
      "authorship_tag": "ABX9TyN1CttCJJtQ/Y5uGPR/KBEZ",
      "include_colab_link": true
    },
    "kernelspec": {
      "name": "python3",
      "display_name": "Python 3"
    },
    "language_info": {
      "name": "python"
    }
  },
  "cells": [
    {
      "cell_type": "markdown",
      "metadata": {
        "id": "view-in-github",
        "colab_type": "text"
      },
      "source": [
        "<a href=\"https://colab.research.google.com/github/saratbantupalli/Financial_Market_Trends/blob/main/python_basics/python_basics.ipynb\" target=\"_parent\"><img src=\"https://colab.research.google.com/assets/colab-badge.svg\" alt=\"Open In Colab\"/></a>"
      ]
    },
    {
      "cell_type": "markdown",
      "source": [
        "# Introduction\n",
        "The goal of this notebook is to serve as a quick reference guide. This notebook gives the **basic syntax** of Python coding language, and quick notes. All information is provided with respect to data science.\n",
        "\n"
      ],
      "metadata": {
        "id": "lWsxoTd2fL-G"
      }
    },
    {
      "cell_type": "markdown",
      "source": [
        "\n",
        "## Python\n",
        "Phyton is a very high-level and general purpose language. It also an interpreted language.\n",
        "\n",
        "*What does this mean?*  \n",
        "Python does a lot of work for the user. The user does not need to declare the type of variable/ data structure. For example, a decimal variable is interpreted by Python, the user does not need to explicity declare it.\n",
        "\n",
        "*Why Python*  \n",
        "It is open-source, a strong community for help, lots of data science libraries, and handles big data well!  "
      ],
      "metadata": {
        "id": "zTLFub7dhUZM"
      }
    },
    {
      "cell_type": "markdown",
      "source": [
        "# Basic Syntax and Notes\n",
        "Here we will see the basic syntax of Python, commonly used objects, their properties, and functions.  \n",
        "\n",
        "You can create an object using **=** .  "
      ],
      "metadata": {
        "id": "7JkYGXjHn_r3"
      }
    },
    {
      "cell_type": "code",
      "source": [
        "a = 2 # a comment can be created using '#'\n",
        "print(a) # print the object we just created"
      ],
      "metadata": {
        "colab": {
          "base_uri": "https://localhost:8080/"
        },
        "id": "tAjP-ZGg6cBr",
        "outputId": "fc1ff4ff-b42b-4352-fe27-1ec32ee546a6"
      },
      "execution_count": null,
      "outputs": [
        {
          "output_type": "stream",
          "name": "stdout",
          "text": [
            "2\n"
          ]
        }
      ]
    },
    {
      "cell_type": "code",
      "source": [
        "b = 5\n",
        "a\n",
        "b"
      ],
      "metadata": {
        "colab": {
          "base_uri": "https://localhost:8080/"
        },
        "id": "-aeFOq9Z6tHm",
        "outputId": "37561553-3e23-498a-d04d-1969e8e186b9"
      },
      "execution_count": null,
      "outputs": [
        {
          "output_type": "execute_result",
          "data": {
            "text/plain": [
              "5"
            ]
          },
          "metadata": {},
          "execution_count": 3
        }
      ]
    },
    {
      "cell_type": "markdown",
      "source": [
        "In the above example, we can see that only the last variable (b) was printed in the output! Python only prints the last instruction. To have both a and b printed in the output, we need to use the `print()` function."
      ],
      "metadata": {
        "id": "Mt3_e3WY6yX3"
      }
    },
    {
      "cell_type": "code",
      "source": [
        "# using the print function, we print all statements of interest\n",
        "print(a)\n",
        "print(b)"
      ],
      "metadata": {
        "colab": {
          "base_uri": "https://localhost:8080/"
        },
        "id": "nqqjl9Xr6-5R",
        "outputId": "08cb958c-d2f5-4eb2-bbdf-db4e3f437080"
      },
      "execution_count": null,
      "outputs": [
        {
          "output_type": "stream",
          "name": "stdout",
          "text": [
            "2\n",
            "5\n"
          ]
        }
      ]
    },
    {
      "cell_type": "markdown",
      "source": [
        "## Multiple Assignment\n",
        "In Python, we can also do **Multiple assignment** once."
      ],
      "metadata": {
        "id": "6CezTfciB06V"
      }
    },
    {
      "cell_type": "code",
      "source": [
        "a,b,c = 2,5,10 # Separate each variable by ',' for multiple assignment\n",
        "print(a,b,c)"
      ],
      "metadata": {
        "colab": {
          "base_uri": "https://localhost:8080/"
        },
        "id": "oC9O_ebO8RYO",
        "outputId": "80846e5f-2b5f-4f08-ca7d-b4a15d225145"
      },
      "execution_count": null,
      "outputs": [
        {
          "output_type": "stream",
          "name": "stdout",
          "text": [
            "2 5 10\n"
          ]
        }
      ]
    },
    {
      "cell_type": "markdown",
      "source": [
        "## * Operator\n",
        "Another useful operator would be the use * operator in variable assignment. This feature would come in handy to simplify our code.\n",
        "\n",
        "Note: This is very helpful in packing and unpacking variables."
      ],
      "metadata": {
        "id": "wBpPjZrG81rI"
      }
    },
    {
      "cell_type": "code",
      "source": [
        "x, *y = 'orange', 'banana', 'apple'\n",
        "print(x) # orange gets assigned to x\n",
        "print(y) # everything else gets assigned to y\n",
        "y"
      ],
      "metadata": {
        "colab": {
          "base_uri": "https://localhost:8080/"
        },
        "id": "laa0WIyJ9F-O",
        "outputId": "605b0224-0295-42b3-f25f-d61062fd847a"
      },
      "execution_count": null,
      "outputs": [
        {
          "output_type": "stream",
          "name": "stdout",
          "text": [
            "orange\n",
            "['banana', 'apple']\n"
          ]
        },
        {
          "output_type": "execute_result",
          "data": {
            "text/plain": [
              "['banana', 'apple']"
            ]
          },
          "metadata": {},
          "execution_count": 12
        }
      ]
    },
    {
      "cell_type": "markdown",
      "source": [
        "## _ Variable\n",
        "The _ variable is a cool feature. The last evaluated expression is assigned to the variable_. This would be a useful variable when we do not want to store extra variables (for example in a loop). It acts more like a placeholder variable.  \n",
        "\n",
        "The last evaluated expression for us is print(y), so _ variable should output y.\n",
        "\n",
        "Note: `print()` does not count toward the _!\n"
      ],
      "metadata": {
        "id": "kgUb1_Az9p-V"
      }
    },
    {
      "cell_type": "code",
      "source": [
        "_"
      ],
      "metadata": {
        "colab": {
          "base_uri": "https://localhost:8080/"
        },
        "id": "9v8fkGNn-WMs",
        "outputId": "1393ed29-7795-4ab3-a9e8-c8da061e5af4"
      },
      "execution_count": null,
      "outputs": [
        {
          "output_type": "execute_result",
          "data": {
            "text/plain": [
              "['banana', 'apple']"
            ]
          },
          "metadata": {},
          "execution_count": 13
        }
      ]
    },
    {
      "cell_type": "markdown",
      "source": [
        "## Copying vs Referencing\n",
        "In general, assignment statements do not copy objects, they create bindings between a target (a spot in the memory) and an object."
      ],
      "metadata": {
        "id": "DUdxfFil_V15"
      }
    },
    {
      "cell_type": "code",
      "source": [
        "x = [1, 2, 3, \"Cats and Dogs\"] # Create a object x\n",
        "y = x # Cretae a object y\n",
        "print(x,y)"
      ],
      "metadata": {
        "colab": {
          "base_uri": "https://localhost:8080/"
        },
        "id": "Md1Q3dHN_7nO",
        "outputId": "25919984-ac26-4be5-aca7-a31d2e033383"
      },
      "execution_count": null,
      "outputs": [
        {
          "output_type": "stream",
          "name": "stdout",
          "text": [
            "[1, 2, 3, 'Cats and Dogs'] [1, 2, 3, 'Cats and Dogs']\n"
          ]
        }
      ]
    },
    {
      "cell_type": "code",
      "source": [
        "x[3] = [\"Dogs vs Cats\"] # access 4th element and assign a new value\n",
        "print(x,y)"
      ],
      "metadata": {
        "colab": {
          "base_uri": "https://localhost:8080/"
        },
        "id": "vudHbBeBAR6S",
        "outputId": "5cb32e52-84ae-48d2-bfb2-d1178a36d6a6"
      },
      "execution_count": null,
      "outputs": [
        {
          "output_type": "stream",
          "name": "stdout",
          "text": [
            "[1, 2, 3, ['Dogs vs Cats']] [1, 2, 3, ['Dogs vs Cats']]\n"
          ]
        }
      ]
    },
    {
      "cell_type": "markdown",
      "source": [
        "We can see that the elements of both x and y changed.  \n",
        "\n",
        "To avoid this behavior, create a copy of the object instead of referencing."
      ],
      "metadata": {
        "id": "fqHr-oLMAl3B"
      }
    },
    {
      "cell_type": "code",
      "source": [
        "y = x.copy() # copy the object\n",
        "x[2] = 1000\n",
        "print(x,y)"
      ],
      "metadata": {
        "colab": {
          "base_uri": "https://localhost:8080/"
        },
        "id": "tV-ob0edCjPq",
        "outputId": "4ebb1639-7f37-4380-ed8d-0dfad1df2e60"
      },
      "execution_count": null,
      "outputs": [
        {
          "output_type": "stream",
          "name": "stdout",
          "text": [
            "[1, 2, 1000, ['Dogs vs Cats']] [1, 2, 3, ['Dogs vs Cats']]\n"
          ]
        }
      ]
    },
    {
      "cell_type": "markdown",
      "source": [
        "## Augmented Assignment\n",
        "A shorthand for an expression. Very useful for having a shorter code."
      ],
      "metadata": {
        "id": "XpzooUHIC4Fl"
      }
    },
    {
      "cell_type": "code",
      "source": [
        "winnings = 100\n",
        "winnings += 20 # winnings = winnings + 20 (100 + 20)\n",
        "winnings"
      ],
      "metadata": {
        "colab": {
          "base_uri": "https://localhost:8080/"
        },
        "id": "DuqFq5RMC-2g",
        "outputId": "ce8105b4-45ec-4b76-8d46-4bc42e4bcea0"
      },
      "execution_count": null,
      "outputs": [
        {
          "output_type": "execute_result",
          "data": {
            "text/plain": [
              "120"
            ]
          },
          "metadata": {},
          "execution_count": 17
        }
      ]
    },
    {
      "cell_type": "code",
      "source": [
        "winnings *= 40 # winnings = 40*winnings\n",
        "winnings"
      ],
      "metadata": {
        "colab": {
          "base_uri": "https://localhost:8080/"
        },
        "id": "f8TaO92SDTjR",
        "outputId": "a851f6c1-71fb-4f3d-c1b2-d2a06bff0532"
      },
      "execution_count": null,
      "outputs": [
        {
          "output_type": "execute_result",
          "data": {
            "text/plain": [
              "4800"
            ]
          },
          "metadata": {},
          "execution_count": 18
        }
      ]
    },
    {
      "cell_type": "code",
      "source": [
        "winnings **= 1/2 # exponent , winnings = sqrt(winnings)\n",
        "winnings"
      ],
      "metadata": {
        "colab": {
          "base_uri": "https://localhost:8080/"
        },
        "id": "Jb-Sq0UeDbn8",
        "outputId": "ce34903f-3c4f-4e17-8367-bd2f99742b88"
      },
      "execution_count": null,
      "outputs": [
        {
          "output_type": "execute_result",
          "data": {
            "text/plain": [
              "69.2820323027551"
            ]
          },
          "metadata": {},
          "execution_count": 19
        }
      ]
    },
    {
      "cell_type": "markdown",
      "source": [
        "## Functions, Methods, and Attributes\n",
        "Two major ways to do an operation on a variable/object:  \n",
        "+ Functions: function_name(my_var, arguments), generic and can be applied to different objects. Commonly used functions include `len()`, `sorted()`\n",
        "+ Methods: my_var.method(arguments), specific to the object  \n",
        "+ Attributes: my_var.attribute, no brackets- example: my_function._doc_\n"
      ],
      "metadata": {
        "id": "gz0DcHI7EGsl"
      }
    },
    {
      "cell_type": "markdown",
      "source": [
        "# Modules\n",
        "Modules or packages are a collection of related statements and give extra functionality to the user. There are some modules that come with base Python distribution and there are others that the user needs to donwload and import. Some common modules include `math`, `numpy`, `matplotlib`, and `pandas`.  \n",
        "\n",
        "**Note**  \n",
        "Functions in the base Python modules can be called directly. For example, print().  \n",
        "Functions in modules the user downloads and imports, need a module prefix. For example, square root function from `math` module: math.sqrt(variable_name)."
      ],
      "metadata": {
        "id": "vHIw6a7mkfTY"
      }
    },
    {
      "cell_type": "markdown",
      "source": [
        "## Importing Modules\n",
        "Modules are usually imported to a environment using the `import` keyword."
      ],
      "metadata": {
        "id": "6wey7HTMlr8P"
      }
    },
    {
      "cell_type": "code",
      "source": [
        "import math #import the math module- contains math constants like pi,e and commonly used functions like sin(), sqrt()"
      ],
      "metadata": {
        "id": "8aDPsD_CnLc2"
      },
      "execution_count": null,
      "outputs": []
    },
    {
      "cell_type": "markdown",
      "source": [
        "Since `math` is not a base module, we need to use the prefix **math.function_name** for functions from this module.  \n",
        "\n",
        "**Note**  \n",
        "While importing a module, the user has the option to abbreviate the module name. For example, numpy is usually abbreviated as np. to import, `import numpy as np`.\n",
        "Well known data science modules all have preffered abbreviations.\n"
      ],
      "metadata": {
        "id": "rWpFl1oan0t4"
      }
    },
    {
      "cell_type": "code",
      "source": [
        "x = 16\n",
        "print(math.sqrt(x))"
      ],
      "metadata": {
        "colab": {
          "base_uri": "https://localhost:8080/"
        },
        "id": "6hlGT0nnp_7q",
        "outputId": "e07c05b1-b97a-472f-bdd8-e2565f205c09"
      },
      "execution_count": null,
      "outputs": [
        {
          "output_type": "stream",
          "name": "stdout",
          "text": [
            "4.0\n"
          ]
        }
      ]
    },
    {
      "cell_type": "markdown",
      "source": [
        "### Selective import\n",
        "The user can selectively import specific functions from a module. This allows us to call the functions without the module prefix.\n"
      ],
      "metadata": {
        "id": "pSwdKIcrquwB"
      }
    },
    {
      "cell_type": "code",
      "source": [
        "from math import sqrt, pi"
      ],
      "metadata": {
        "id": "c8C6G2p7rIb5"
      },
      "execution_count": null,
      "outputs": []
    },
    {
      "cell_type": "markdown",
      "source": [
        "## Installing Modules\n",
        "Pip Installs Packages or pip is the package manager for python. It is used through command line.  \n",
        "\n",
        "In google colab, modules can be installed using ! first.\n",
        "\n",
        "Alternatively, anaconda is a great way to deal with modules. It creates virtual environments (for example Project 1, Project 2), installs and manages modules for each environment. minconda, a lighter version of anaconda, is great."
      ],
      "metadata": {
        "id": "C27kgzx3rwiT"
      }
    },
    {
      "cell_type": "markdown",
      "source": [
        "# Data Structures\n",
        "Here we will talk about commonly used data structures in Python and see their properties."
      ],
      "metadata": {
        "id": "xXcrLeK_oGyK"
      }
    },
    {
      "cell_type": "markdown",
      "source": [
        "## Lists\n",
        "A common data type which is very flexible. It is one-dimensional, ordered, and sequence-type object. They are mutable and Iterable.\n",
        "\n",
        "_**NOTE: In Python counting starts from 0.**_\n",
        "\n",
        "Four ways to create lists:  \n",
        "+ Squared brackets: [element1, element2]  \n",
        "+ list((element1, element2))\n",
        "+ Create an empty list and append to it  \n",
        "+ List comprehensions- simplify the code a lot- very useful  \n",
        "\n",
        "Lists don't restrict the type of data they can have. Hence, lists can have other lists."
      ],
      "metadata": {
        "id": "5JAkvfvDtecC"
      }
    },
    {
      "cell_type": "code",
      "source": [
        "# first way of creating lists- using square brackets\n",
        "x = [1,2,3]\n",
        "print(x)\n",
        "type(x)"
      ],
      "metadata": {
        "colab": {
          "base_uri": "https://localhost:8080/"
        },
        "id": "LKa95o59tdk2",
        "outputId": "b61ce55d-a9c3-45f9-dee9-3bb73d04e129"
      },
      "execution_count": null,
      "outputs": [
        {
          "output_type": "stream",
          "name": "stdout",
          "text": [
            "[1, 2, 3]\n"
          ]
        },
        {
          "output_type": "execute_result",
          "data": {
            "text/plain": [
              "list"
            ]
          },
          "metadata": {},
          "execution_count": 4
        }
      ]
    },
    {
      "cell_type": "code",
      "source": [
        "# second way of creating lists- using list()\n",
        "x = list((1,2,3))\n",
        "print(x)\n",
        "type(x)"
      ],
      "metadata": {
        "colab": {
          "base_uri": "https://localhost:8080/"
        },
        "id": "735yvzhOu-qx",
        "outputId": "3067293e-b36c-4754-c783-7c0241b20288"
      },
      "execution_count": null,
      "outputs": [
        {
          "output_type": "stream",
          "name": "stdout",
          "text": [
            "[1, 2, 3]\n"
          ]
        },
        {
          "output_type": "execute_result",
          "data": {
            "text/plain": [
              "list"
            ]
          },
          "metadata": {},
          "execution_count": 5
        }
      ]
    },
    {
      "cell_type": "code",
      "source": [
        "# Third way of creating lists- using an empty list and appending\n",
        "my_list = list()\n",
        "my_list.append(0)\n",
        "my_list"
      ],
      "metadata": {
        "colab": {
          "base_uri": "https://localhost:8080/"
        },
        "id": "Wyp0TAODx8q4",
        "outputId": "cc0e7e86-fd73-4cb5-c5a0-b8178e3a43ee"
      },
      "execution_count": 2,
      "outputs": [
        {
          "output_type": "execute_result",
          "data": {
            "text/plain": [
              "[0]"
            ]
          },
          "metadata": {},
          "execution_count": 2
        }
      ]
    },
    {
      "cell_type": "code",
      "source": [
        "# Fourth way- list comprehension- very useful when creating lambda functions\n",
        "my_list = [x for x in range(0,10)] # essentially it says for x in range(0,10): return(x)\n",
        "my_list"
      ],
      "metadata": {
        "colab": {
          "base_uri": "https://localhost:8080/"
        },
        "id": "ZRrCSOoyys9i",
        "outputId": "8beb46cb-86a4-4ffe-e144-43d948d4c3ed"
      },
      "execution_count": 6,
      "outputs": [
        {
          "output_type": "execute_result",
          "data": {
            "text/plain": [
              "[0, 1, 2, 3, 4, 5, 6, 7, 8, 9]"
            ]
          },
          "metadata": {},
          "execution_count": 6
        }
      ]
    },
    {
      "cell_type": "markdown",
      "source": [
        "### Indexing Lists\n",
        "Lists can be indexed (obtain the element from an object) using squared brackets []. Counting starts at 0. Negative index counts from reverse (starting at 1)."
      ],
      "metadata": {
        "id": "R6ZyWulxv0Qu"
      }
    },
    {
      "cell_type": "code",
      "source": [
        "x[0]"
      ],
      "metadata": {
        "colab": {
          "base_uri": "https://localhost:8080/"
        },
        "id": "WeDwoqN0vG3w",
        "outputId": "4d3fc5c1-eba7-4161-c91a-d2a90d8fca68"
      },
      "execution_count": null,
      "outputs": [
        {
          "output_type": "execute_result",
          "data": {
            "text/plain": [
              "1"
            ]
          },
          "metadata": {},
          "execution_count": 6
        }
      ]
    },
    {
      "cell_type": "code",
      "source": [
        "x[-1]"
      ],
      "metadata": {
        "colab": {
          "base_uri": "https://localhost:8080/"
        },
        "id": "KyLSGgXBwGei",
        "outputId": "611f84a5-7264-436a-d0ab-b07918382238"
      },
      "execution_count": null,
      "outputs": [
        {
          "output_type": "execute_result",
          "data": {
            "text/plain": [
              "3"
            ]
          },
          "metadata": {},
          "execution_count": 7
        }
      ]
    },
    {
      "cell_type": "markdown",
      "source": [
        "### Slicing Lists\n",
        "Getting a range of elements from the object."
      ],
      "metadata": {
        "id": "TZMrWV7WwYII"
      }
    },
    {
      "cell_type": "code",
      "source": [
        "x[0:2] # Last element is not included"
      ],
      "metadata": {
        "colab": {
          "base_uri": "https://localhost:8080/"
        },
        "id": "QsiJl3XtwRaq",
        "outputId": "4d3a88e3-3d93-4b8b-b5ce-23fb9c12c975"
      },
      "execution_count": null,
      "outputs": [
        {
          "output_type": "execute_result",
          "data": {
            "text/plain": [
              "[1, 2]"
            ]
          },
          "metadata": {},
          "execution_count": 9
        }
      ]
    },
    {
      "cell_type": "markdown",
      "source": [
        "Note: When slicing, the last index is ignored."
      ],
      "metadata": {
        "id": "Q3lAKUwNxR3C"
      }
    },
    {
      "cell_type": "code",
      "source": [
        "x[0:2][1] # we can index what gets returned"
      ],
      "metadata": {
        "colab": {
          "base_uri": "https://localhost:8080/"
        },
        "id": "faua_Pq5wobI",
        "outputId": "ca944d77-9ef9-4d66-a998-bd68558a310a"
      },
      "execution_count": null,
      "outputs": [
        {
          "output_type": "execute_result",
          "data": {
            "text/plain": [
              "2"
            ]
          },
          "metadata": {},
          "execution_count": 10
        }
      ]
    },
    {
      "cell_type": "markdown",
      "source": [
        "### Methods on Lists\n",
        "Important methods lists:  \n",
        "+ `.pop()`- remove the last element  \n",
        "+ `.append()`- add an element  \n",
        "+ `.extend()`, `.remove()`, `.insert`\n",
        "\n"
      ],
      "metadata": {
        "id": "5-i1ja0Qx_ut"
      }
    },
    {
      "cell_type": "markdown",
      "source": [
        "## Tuples\n",
        "Immutable lists. Sequential. Very good for iterations because they are immutable."
      ],
      "metadata": {
        "id": "R8ulhP9LzYqv"
      }
    },
    {
      "cell_type": "code",
      "source": [
        "# creating a tuple\n",
        "my_tuple = (1,2,my_list)\n",
        "my_tuple"
      ],
      "metadata": {
        "colab": {
          "base_uri": "https://localhost:8080/"
        },
        "id": "qk_tH194zbus",
        "outputId": "8096ac24-c32d-4baf-a1f4-4c35099ba0de"
      },
      "execution_count": 5,
      "outputs": [
        {
          "output_type": "execute_result",
          "data": {
            "text/plain": [
              "(1, 2, [0])"
            ]
          },
          "metadata": {},
          "execution_count": 5
        }
      ]
    },
    {
      "cell_type": "markdown",
      "source": [
        "Behave like a list. Most functions and methods work."
      ],
      "metadata": {
        "id": "MW0xV9lRz2uC"
      }
    },
    {
      "cell_type": "markdown",
      "source": [
        "## Strings\n",
        "It is a sequence of characters. They are immutable. Common ways of creating strings:  \n",
        "+ using ''  \n",
        "+ casting: using str(variable)"
      ],
      "metadata": {
        "id": "Zn0EBHr-yS0q"
      }
    },
    {
      "cell_type": "code",
      "source": [
        "x = 'wolf'\n",
        "y = str('pack')\n",
        "print(x)"
      ],
      "metadata": {
        "colab": {
          "base_uri": "https://localhost:8080/"
        },
        "id": "fZjcv6eFxi4o",
        "outputId": "2eef4cd2-cf3f-4c0b-e541-039779349931"
      },
      "execution_count": null,
      "outputs": [
        {
          "output_type": "stream",
          "name": "stdout",
          "text": [
            "wolf\n"
          ]
        }
      ]
    },
    {
      "cell_type": "code",
      "source": [
        "z = x+y # this is called concatenating\n",
        "print(z)"
      ],
      "metadata": {
        "colab": {
          "base_uri": "https://localhost:8080/"
        },
        "id": "TQFMLWaPy3yK",
        "outputId": "4870852e-c17d-4579-c6b5-a0b71a55bd14"
      },
      "execution_count": null,
      "outputs": [
        {
          "output_type": "stream",
          "name": "stdout",
          "text": [
            "wolfpack\n"
          ]
        }
      ]
    },
    {
      "cell_type": "markdown",
      "source": [
        "### Indexing and Slicing Strings\n",
        "Similar to lists. We use [index] to get the elements we want."
      ],
      "metadata": {
        "id": "IerL5TnZzHRW"
      }
    },
    {
      "cell_type": "code",
      "source": [
        "z[0]"
      ],
      "metadata": {
        "colab": {
          "base_uri": "https://localhost:8080/",
          "height": 35
        },
        "id": "Qa0OeLDTy5nv",
        "outputId": "06a240a3-18bc-486c-d8ff-23fcd150c0b4"
      },
      "execution_count": null,
      "outputs": [
        {
          "output_type": "execute_result",
          "data": {
            "text/plain": [
              "'w'"
            ],
            "application/vnd.google.colaboratory.intrinsic+json": {
              "type": "string"
            }
          },
          "metadata": {},
          "execution_count": 18
        }
      ]
    },
    {
      "cell_type": "code",
      "source": [
        "z[0:4]"
      ],
      "metadata": {
        "colab": {
          "base_uri": "https://localhost:8080/",
          "height": 35
        },
        "id": "ke4M4LC8zSDA",
        "outputId": "4c318140-2449-41d2-ca73-97712d0273de"
      },
      "execution_count": null,
      "outputs": [
        {
          "output_type": "execute_result",
          "data": {
            "text/plain": [
              "'wolf'"
            ],
            "application/vnd.google.colaboratory.intrinsic+json": {
              "type": "string"
            }
          },
          "metadata": {},
          "execution_count": 19
        }
      ]
    },
    {
      "cell_type": "markdown",
      "source": [
        "### Commonly used methods on Strings\n",
        "Some commonly used methods on strings include `.upper()`, `.lower()`, and `.split()`.  \n",
        "\n",
        "Use `.format()` method to insert new values."
      ],
      "metadata": {
        "id": "s5jgtKLBzc9l"
      }
    },
    {
      "cell_type": "code",
      "source": [
        "Profession = \"student\"\n",
        "Year = 4.54\n",
        "my_string = \"I am a {profession} and currently in my {year} semester\" # {} is a place holder\n",
        "my_string.format(profession = Profession, year = Year)"
      ],
      "metadata": {
        "colab": {
          "base_uri": "https://localhost:8080/",
          "height": 35
        },
        "id": "zdjh2RaVzUx4",
        "outputId": "c4508907-ccbe-4b79-c576-8c13f1a4ddc3"
      },
      "execution_count": null,
      "outputs": [
        {
          "output_type": "execute_result",
          "data": {
            "text/plain": [
              "'I am a student and currently in my 4.54 semester'"
            ],
            "application/vnd.google.colaboratory.intrinsic+json": {
              "type": "string"
            }
          },
          "metadata": {},
          "execution_count": 21
        }
      ]
    },
    {
      "cell_type": "code",
      "source": [
        "my_string2 = \"I am a {profession} and currently in my {year:.1f} semester\" # use formatting for the variables in the string\n",
        "my_string2.format(profession = Profession, year = Year)"
      ],
      "metadata": {
        "colab": {
          "base_uri": "https://localhost:8080/",
          "height": 35
        },
        "id": "f3S9_tjD1cIu",
        "outputId": "58d7fae9-ce9b-443b-b2a2-af491f14aa40"
      },
      "execution_count": null,
      "outputs": [
        {
          "output_type": "execute_result",
          "data": {
            "text/plain": [
              "'I am a student and currently in my 4.5 semester'"
            ],
            "application/vnd.google.colaboratory.intrinsic+json": {
              "type": "string"
            }
          },
          "metadata": {},
          "execution_count": 23
        }
      ]
    },
    {
      "cell_type": "markdown",
      "source": [
        "## Booleans\n",
        "Give a True or False. Any list, tuple, set, and dictionary give a True except empty ones."
      ],
      "metadata": {
        "id": "77HVRHXP4Sah"
      }
    },
    {
      "cell_type": "code",
      "source": [
        "bool(\"string\")"
      ],
      "metadata": {
        "colab": {
          "base_uri": "https://localhost:8080/"
        },
        "id": "yf8-FNrZ31hc",
        "outputId": "28bfe297-7bfb-4f3d-8a14-94b64a302812"
      },
      "execution_count": null,
      "outputs": [
        {
          "output_type": "execute_result",
          "data": {
            "text/plain": [
              "True"
            ]
          },
          "metadata": {},
          "execution_count": 24
        }
      ]
    },
    {
      "cell_type": "markdown",
      "source": [
        "## Iterators\n",
        "Very useful. A common iterator is `range()` function. It does not by itself generate values but an object to create values.  "
      ],
      "metadata": {
        "id": "tcZngwJ1Lm6a"
      }
    },
    {
      "cell_type": "code",
      "source": [
        "seq = range(0,11)\n",
        "seq # lazy evaluation, does not create values"
      ],
      "metadata": {
        "colab": {
          "base_uri": "https://localhost:8080/"
        },
        "id": "zFvjCyQEL9u2",
        "outputId": "3049cb56-dcf3-401d-ea09-1a173d5d05f7"
      },
      "execution_count": null,
      "outputs": [
        {
          "output_type": "execute_result",
          "data": {
            "text/plain": [
              "range(0, 11)"
            ]
          },
          "metadata": {},
          "execution_count": 4
        }
      ]
    },
    {
      "cell_type": "code",
      "source": [
        "list(seq) # this generates the values"
      ],
      "metadata": {
        "colab": {
          "base_uri": "https://localhost:8080/"
        },
        "id": "iKRUjlCKMD6H",
        "outputId": "3b3d1e55-1668-46e3-fdd7-8273c65615e1"
      },
      "execution_count": null,
      "outputs": [
        {
          "output_type": "execute_result",
          "data": {
            "text/plain": [
              "[0, 1, 2, 3, 4, 5, 6, 7, 8, 9, 10]"
            ]
          },
          "metadata": {},
          "execution_count": 5
        }
      ]
    },
    {
      "cell_type": "markdown",
      "source": [
        "**Iterators like `range()`save memory- generate values only when required**"
      ],
      "metadata": {
        "id": "CWKUYzCTMMw3"
      }
    },
    {
      "cell_type": "markdown",
      "source": [
        "## Dictionaries\n",
        "Immutable. Key-value pairs. Keys must be unique. Not ordered. Can created using dict() or {}"
      ],
      "metadata": {
        "id": "oF5OJxfOxzkz"
      }
    },
    {
      "cell_type": "code",
      "source": [
        "# example of a dictionary\n",
        "keys = [x for x in \"abcdefgh\"]\n",
        "values = [y for y in range(0,10)]\n",
        "my_dict = dict(zip(keys, values))\n",
        "my_dict"
      ],
      "metadata": {
        "colab": {
          "base_uri": "https://localhost:8080/"
        },
        "id": "QiXbpoTd2cxB",
        "outputId": "b0f14acd-07e6-49ef-f8e4-6fce9d3c9952"
      },
      "execution_count": 7,
      "outputs": [
        {
          "output_type": "execute_result",
          "data": {
            "text/plain": [
              "{'a': 0, 'b': 1, 'c': 2, 'd': 3, 'e': 4, 'f': 5, 'g': 6, 'h': 7}"
            ]
          },
          "metadata": {},
          "execution_count": 7
        }
      ]
    },
    {
      "cell_type": "code",
      "source": [
        "# another dictionary- using dictionary comprehensions\n",
        "my_dict = {\"abcdef\"[i] : i for i in range(0,6)}\n",
        "my_dict\n"
      ],
      "metadata": {
        "colab": {
          "base_uri": "https://localhost:8080/"
        },
        "id": "6Q14eAgn22Od",
        "outputId": "a53d91df-8890-4f2b-a7a3-1ea87102652d"
      },
      "execution_count": 9,
      "outputs": [
        {
          "output_type": "execute_result",
          "data": {
            "text/plain": [
              "{'a': 0, 'b': 1, 'c': 2, 'd': 3, 'e': 4, 'f': 5}"
            ]
          },
          "metadata": {},
          "execution_count": 9
        }
      ]
    },
    {
      "cell_type": "markdown",
      "source": [
        "### Indexing and Slicing Dictionaries\n",
        "We use the \"keys\" to index and slice Dictionaries."
      ],
      "metadata": {
        "id": "cirh7at23gMx"
      }
    },
    {
      "cell_type": "code",
      "source": [
        "my_dict[\"a\"] # dict[key]"
      ],
      "metadata": {
        "colab": {
          "base_uri": "https://localhost:8080/"
        },
        "id": "-HwTxhff3n72",
        "outputId": "a6aacb15-d0af-41b8-8c15-0367e1e97dcd"
      },
      "execution_count": 12,
      "outputs": [
        {
          "output_type": "execute_result",
          "data": {
            "text/plain": [
              "0"
            ]
          },
          "metadata": {},
          "execution_count": 12
        }
      ]
    },
    {
      "cell_type": "markdown",
      "source": [
        "We can pack dictionaries using **."
      ],
      "metadata": {
        "id": "EBJtbrZR4YfM"
      }
    },
    {
      "cell_type": "markdown",
      "source": [
        "### Dictionary Methods\n",
        "`.get()`- instead of directly slicing, `.keys()`, `.values()`, `.update()`."
      ],
      "metadata": {
        "id": "IIBvIhzD5Owa"
      }
    },
    {
      "cell_type": "markdown",
      "source": [
        "# Functions\n",
        "Here is the format for writing our own functions:\n",
        "\n",
        "def function_name(arguments, keywords):  \n",
        "    \"\"\"\n",
        "    Description of function-  \n",
        "    this is called Documentation string\n",
        "    \"\"\"  \n",
        "    Function body\n",
        "    return object"
      ],
      "metadata": {
        "id": "CvcnlwV7JjKS"
      }
    },
    {
      "cell_type": "markdown",
      "source": [
        "**A good way to write functions is write them outside of a function first and then put the pieces into the function.**"
      ],
      "metadata": {
        "id": "6ugehEMTZCFu"
      }
    },
    {
      "cell_type": "code",
      "source": [
        "# example of a function\n",
        "def find_mean(num1, num2):\n",
        "    \"\"\"\n",
        "    This function finds takes in two numebrs and finds the mean\n",
        "    \"\"\"\n",
        "    avg = (num1+num2)/2\n",
        "    return(avg)"
      ],
      "metadata": {
        "id": "6Y9BoTlx4ezY"
      },
      "execution_count": null,
      "outputs": []
    },
    {
      "cell_type": "markdown",
      "source": [
        "Use ._doc _ for all functions with a documentation string."
      ],
      "metadata": {
        "id": "iur-pO-bb9OP"
      }
    },
    {
      "cell_type": "code",
      "source": [
        "# Testing the above function\n",
        "find_mean(2,4)"
      ],
      "metadata": {
        "colab": {
          "base_uri": "https://localhost:8080/"
        },
        "id": "01oK8LdjK89X",
        "outputId": "b54280f8-4524-44d4-a12e-497d16690465"
      },
      "execution_count": null,
      "outputs": [
        {
          "output_type": "execute_result",
          "data": {
            "text/plain": [
              "3.0"
            ]
          },
          "metadata": {},
          "execution_count": 2
        }
      ]
    },
    {
      "cell_type": "markdown",
      "source": [
        "### Positional vs Key word Arguments\n",
        "Cannot have a positional argument after a key word argument.\n"
      ],
      "metadata": {
        "id": "t9-0BVvzZtm8"
      }
    },
    {
      "cell_type": "code",
      "source": [
        "def f(pos1, pos2, /, pos_or_kwd, *, kwd1, kwd2):\n",
        "\n",
        "# pos1/pos2- positional arguments\n",
        "# pos_or_kwd- positional or keyword arguments\n",
        "# kwd1/ kwd2- keyword arguments"
      ],
      "metadata": {
        "colab": {
          "base_uri": "https://localhost:8080/",
          "height": 106
        },
        "id": "ql0ihXXtLAtP",
        "outputId": "5ae216f1-0f8e-424b-bf41-34a0e980a0d3"
      },
      "execution_count": null,
      "outputs": [
        {
          "output_type": "error",
          "ename": "SyntaxError",
          "evalue": "incomplete input (ipython-input-751168150.py, line 5)",
          "traceback": [
            "\u001b[0;36m  File \u001b[0;32m\"/tmp/ipython-input-751168150.py\"\u001b[0;36m, line \u001b[0;32m5\u001b[0m\n\u001b[0;31m    # kwd1/ kwd2- keyword arguments\u001b[0m\n\u001b[0m                                   ^\u001b[0m\n\u001b[0;31mSyntaxError\u001b[0m\u001b[0;31m:\u001b[0m incomplete input\n"
          ]
        }
      ]
    },
    {
      "cell_type": "markdown",
      "source": [
        "# Loops\n",
        "To iterate over both x and y use zip(x,y).\n",
        "\n",
        "if-elif-else\n",
        "\n",
        "for loops\n",
        "\n",
        "while loops\n",
        "\n",
        "All sequence type objects are iterable (need it for loops)"
      ],
      "metadata": {
        "id": "P6HAhRBzbqkf"
      }
    },
    {
      "cell_type": "code",
      "source": [
        "# for loop example\n",
        "eye_color = [3,2,2,1,2,1,2,4,3,2,2,1,2,2]"
      ],
      "metadata": {
        "id": "8q4e8xvmafs-"
      },
      "execution_count": null,
      "outputs": []
    },
    {
      "cell_type": "code",
      "source": [
        "for i in eye_color:\n",
        "  if i == 1:\n",
        "    print(\"blue\")\n",
        "  elif i == 2:\n",
        "    print(\"brown\")\n",
        "  elif i == 3:\n",
        "    print(\"green\")\n",
        "  else:\n",
        "    print(\"other\")"
      ],
      "metadata": {
        "colab": {
          "base_uri": "https://localhost:8080/"
        },
        "id": "xhYc4dPOfPtL",
        "outputId": "276cb42e-7778-4c9e-ad9f-3d1e68be94db"
      },
      "execution_count": null,
      "outputs": [
        {
          "output_type": "stream",
          "name": "stdout",
          "text": [
            "green\n",
            "brown\n",
            "brown\n",
            "blue\n",
            "brown\n",
            "blue\n",
            "brown\n",
            "other\n",
            "green\n",
            "brown\n",
            "brown\n",
            "blue\n",
            "brown\n",
            "brown\n"
          ]
        }
      ]
    },
    {
      "cell_type": "markdown",
      "source": [
        "break (jump out of a loop) and continue (jumps to next iteration) in for loops"
      ],
      "metadata": {
        "id": "SAKGPacWgL8A"
      }
    },
    {
      "cell_type": "code",
      "source": [],
      "metadata": {
        "id": "TWkzXvOwgOyd"
      },
      "execution_count": null,
      "outputs": []
    }
  ]
}